{
 "cells": [
  {
   "cell_type": "markdown",
   "id": "ba45ad18",
   "metadata": {},
   "source": [
    "# System 1 - Aleph"
   ]
  },
  {
   "cell_type": "code",
   "execution_count": null,
   "id": "d7d34904",
   "metadata": {
    "scrolled": true
   },
   "outputs": [],
   "source": [
    "from  PyILP import *\n",
    "model_aleph= aleph_learn(file=\"all_brel.pl\", positive_example=\"train.f\",\n",
    "                     negative_example=\"train.n\", settings=\"train.b\")\n",
    "pos=read_example(\"test.f\")\n",
    "neg=read_example(\"test.n\")\n",
    "metrics_aleph=evaluate_theory_prolog(model_aleph.hypothesis,\"all_brel.pl\",pos, neg)\n"
   ]
  },
  {
   "cell_type": "markdown",
   "id": "b5c616e1",
   "metadata": {},
   "source": [
    "# System 2 - Metagol"
   ]
  },
  {
   "cell_type": "code",
   "execution_count": null,
   "id": "ab75d70f",
   "metadata": {},
   "outputs": [],
   "source": [
    "from  PyILP import *\n",
    "model_metagol=metagol_learn(file=\"all_brel_metagol.pl\", positive_example=\"train.f\", \n",
    "                                         negative_example=\"train.n\",  shuffle=True,  \n",
    "                                         test_size=0)\n",
    "metrics_metagol=evaluate_theory_prolog(model_metagol.hypothesis,\"all_brel.pl\",pos, neg)"
   ]
  },
  {
   "cell_type": "markdown",
   "id": "9159ecb0",
   "metadata": {},
   "source": [
    "# System 3 - PyGol"
   ]
  },
  {
   "cell_type": "code",
   "execution_count": 14,
   "id": "e42f1dc4",
   "metadata": {},
   "outputs": [
    {
     "name": "stderr",
     "output_type": "stream",
     "text": [
      "100%|█████████████████████████████████████████| 100/100 [00:49<00:00,  2.02it/s]\n",
      "100%|█████████████████████████████████████████| 100/100 [00:53<00:00,  1.86it/s]\n"
     ]
    }
   ],
   "source": [
    "from pygolm import *\n",
    "P, N = bottom_clause_generation(file=\"all_brel.pl\", positive_example=\"train.f\"\n",
    "                                ,negative_example=\"train.n\", depth=1, container=\"dict\")\n",
    "\n",
    "\n",
    "\n"
   ]
  },
  {
   "cell_type": "code",
   "execution_count": 19,
   "id": "1c599745",
   "metadata": {},
   "outputs": [
    {
     "name": "stderr",
     "output_type": "stream",
     "text": [
      "100%|█████████████████████████████████████████| 100/100 [00:06<00:00, 14.71it/s]\n",
      "100%|█████████████████████████████████████████| 100/100 [00:06<00:00, 15.15it/s]\n"
     ]
    },
    {
     "name": "stdout",
     "output_type": "stream",
     "text": [
      "+----------+ Training +----------+\n",
      "['p(A):-br0(A,B,C),br1(A,B,C),br10(A,B,C),br11(A,B,C),br12(A,B,C),br13(A,B,C),br2(A,B,C),br3(A,B,C),br4(A,B,C),br5(A,B,C),br6(A,B,C),br7(A,B,C),br8(A,B,C),br9(A,B,C)']\n",
      "+---------------------+------------------+------------------+\n",
      "|       n = 200       | Positive(Actual) | Negative(Actual) |\n",
      "+=====================+==================+==================+\n",
      "| Positive(Predicted) | 80               | 72               |\n",
      "+---------------------+------------------+------------------+\n",
      "| Negative(Predicted) | 20               | 28               |\n",
      "+---------------------+------------------+------------------+\n",
      "+-------------+-------+\n",
      "|   Metric    |   #   |\n",
      "+=============+=======+\n",
      "| Accuracy    | 0.540 |\n",
      "+-------------+-------+\n",
      "| Precision   | 0.526 |\n",
      "+-------------+-------+\n",
      "| Sensitivity | 0.800 |\n",
      "+-------------+-------+\n",
      "| Specificity | 0.280 |\n",
      "+-------------+-------+\n",
      "| F1 Score    | 0.635 |\n",
      "+-------------+-------+\n",
      "+----------+ Testing +----------+\n",
      "+---------------------+------------------+------------------+\n",
      "|       n = 200       | Positive(Actual) | Negative(Actual) |\n",
      "+=====================+==================+==================+\n",
      "| Positive(Predicted) | 87               | 41               |\n",
      "+---------------------+------------------+------------------+\n",
      "| Negative(Predicted) | 13               | 59               |\n",
      "+---------------------+------------------+------------------+\n",
      "+-------------+-------+\n",
      "|   Metric    |   #   |\n",
      "+=============+=======+\n",
      "| Accuracy    | 0.730 |\n",
      "+-------------+-------+\n",
      "| Precision   | 0.680 |\n",
      "+-------------+-------+\n",
      "| Sensitivity | 0.870 |\n",
      "+-------------+-------+\n",
      "| Specificity | 0.590 |\n",
      "+-------------+-------+\n",
      "| F1 Score    | 0.763 |\n",
      "+-------------+-------+\n"
     ]
    }
   ],
   "source": [
    "Train_P, Test_P, Train_N, Test_N=pygolm_train_test_split(test_size=0, shuffle=True)\n",
    "model_pygol = pygolm_learn(Train_P, Train_N,  min_pos=10, max_neg=100, max_literals=14, \n",
    "                          optimize=True, \n",
    "                     exact_literals=True, distinct=True, key_size=1)\n",
    "metrics_pygol= evaluate_theory_prolog(model_pygol.hypothesis,\"all_brel.pl\",pos, neg)"
   ]
  },
  {
   "cell_type": "markdown",
   "id": "d13b1c00",
   "metadata": {},
   "source": [
    "# System 4 - ProGolem"
   ]
  },
  {
   "cell_type": "code",
   "execution_count": 4,
   "id": "51240967",
   "metadata": {},
   "outputs": [],
   "source": [
    "from help_progolem import *"
   ]
  },
  {
   "cell_type": "code",
   "execution_count": 5,
   "id": "3328b22f",
   "metadata": {},
   "outputs": [
    {
     "name": "stdout",
     "output_type": "stream",
     "text": [
      "yap -l run.pl > output.txt\n"
     ]
    },
    {
     "name": "stderr",
     "output_type": "stream",
     "text": [
      "% Restoring file /usr/lib/Yap/startup.yss\n",
      "YAP 6.2.2 (x86_64-linux): Wed Jul 15 05:25:26 UTC 2015\n"
     ]
    }
   ],
   "source": [
    "%%sh\n",
    "cat run_script.sh \n",
    "./run_script.sh"
   ]
  },
  {
   "cell_type": "code",
   "execution_count": 6,
   "id": "931a6d04",
   "metadata": {},
   "outputs": [],
   "source": [
    "model_progolem = metric_progolem_hold_out()"
   ]
  },
  {
   "cell_type": "code",
   "execution_count": 7,
   "id": "5ffc144d",
   "metadata": {},
   "outputs": [
    {
     "name": "stdout",
     "output_type": "stream",
     "text": [
      "yap -l run.pl > output.txt\n"
     ]
    },
    {
     "name": "stderr",
     "output_type": "stream",
     "text": [
      "% Restoring file /usr/lib/Yap/startup.yss\n",
      "YAP 6.2.2 (x86_64-linux): Wed Jul 15 05:25:26 UTC 2015\n"
     ]
    }
   ],
   "source": [
    "%%sh\n",
    "cat run_script.sh \n",
    "./run_script_1.sh"
   ]
  },
  {
   "cell_type": "code",
   "execution_count": 8,
   "id": "749bb99a",
   "metadata": {},
   "outputs": [],
   "source": [
    "metrics_progolem = metric_progolem_hold_out_test()"
   ]
  },
  {
   "cell_type": "code",
   "execution_count": 20,
   "id": "e20faa14",
   "metadata": {},
   "outputs": [
    {
     "name": "stdout",
     "output_type": "stream",
     "text": [
      "System          Accuracy   Time      \n",
      "------          --------   ----      \n",
      "Pygol           0.73       15.82     \n",
      "ProGolem        96.0       22.19     \n",
      "Aleph           0.5        270.7     \n"
     ]
    }
   ],
   "source": [
    "d = {'Pygol': [round(metrics_pygol.accuracy,3),  \n",
    "               round(model_pygol.time_learn,2)],\n",
    "#'Metagol_NT': [round(metrics_metagol.accuracy,3),  \n",
    "             #  round(model_metagol.time_learn,2)],\n",
    "'ProGolem': [round(metrics_progolem['accuracy'],3), \n",
    "             round(model_progolem['time'],2)],\n",
    "'Aleph': [round(metrics_aleph.accuracy,3), \n",
    "          round(model_aleph.time_learn,2)]\n",
    "}\n",
    "print (\"{:<15} {:<10} {:<10}\".format('System','Accuracy','Time'))\n",
    "print (\"{:<15} {:<10} {:<10}\".format('------','--------','----'))\n",
    "for k, v in d.items():\n",
    "    perc, change = v\n",
    "    print (\"{:<15} {:<10} {:<10}\".format(k,  perc, change))"
   ]
  },
  {
   "cell_type": "code",
   "execution_count": null,
   "id": "6b16341b",
   "metadata": {},
   "outputs": [],
   "source": [
    "#!pip3 install pyswip==0.2.10"
   ]
  },
  {
   "cell_type": "code",
   "execution_count": null,
   "id": "b0ba4f55",
   "metadata": {},
   "outputs": [],
   "source": []
  }
 ],
 "metadata": {
  "kernelspec": {
   "display_name": "Python 3 (ipykernel)",
   "language": "python",
   "name": "python3"
  },
  "language_info": {
   "codemirror_mode": {
    "name": "ipython",
    "version": 3
   },
   "file_extension": ".py",
   "mimetype": "text/x-python",
   "name": "python",
   "nbconvert_exporter": "python",
   "pygments_lexer": "ipython3",
   "version": "3.10.6"
  }
 },
 "nbformat": 4,
 "nbformat_minor": 5
}
