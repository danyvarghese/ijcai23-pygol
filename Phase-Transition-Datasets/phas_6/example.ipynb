{
 "cells": [
  {
   "cell_type": "code",
   "execution_count": 6,
   "metadata": {},
   "outputs": [],
   "source": [
    "train =[]\n",
    "with open('train.f', 'r') as fp:\n",
    "    lines = fp.read().splitlines()\n",
    "    for row in lines:\n",
    "        pos=\"example(\"+row[0:-1]+\",1).\"\n",
    "        train.append(pos)\n",
    "with open('train.n', 'r') as fp:\n",
    "    lines = fp.read().splitlines()\n",
    "    for row in lines:\n",
    "        neg=\"example(\"+row[0:-1]+\",-1).\"\n",
    "        train.append(neg)\n",
    "\n",
    "file = open('example_train.pl','w')\n",
    "for item in train:\n",
    "    file.write(item+\"\\n\")\n",
    "file.close()"
   ]
  },
  {
   "cell_type": "code",
   "execution_count": 7,
   "metadata": {},
   "outputs": [],
   "source": [
    "train =[]\n",
    "with open('test.f', 'r') as fp:\n",
    "    lines = fp.read().splitlines()\n",
    "    for row in lines:\n",
    "        pos=\"example(\"+row[0:-1]+\",1).\"\n",
    "        train.append(pos)\n",
    "with open('test.n', 'r') as fp:\n",
    "    lines = fp.read().splitlines()\n",
    "    for row in lines:\n",
    "        neg=\"example(\"+row[0:-1]+\",-1).\"\n",
    "        train.append(neg)\n",
    "\n",
    "file = open('example_test.pl','w')\n",
    "for item in train:\n",
    "    file.write(item+\"\\n\")\n",
    "file.close()"
   ]
  },
  {
   "cell_type": "code",
   "execution_count": null,
   "metadata": {},
   "outputs": [],
   "source": [
    ":- modeb(2,br0(+instance,-element,-element)).\n",
    ":- modeb(2,br1(+instance,-element,-element)).\n",
    ":- modeb(2,br2(+instance,-element,-element)).\n",
    ":- modeb(2,br3(+instance,-element,-element)).\n",
    ":- modeb(2,br4(+instance,-element,-element)).\n",
    ":- modeb(2,br5(+instance,-element,-element)).\n",
    ":- modeb(2,br6(+instance,-element,-element)).\n",
    ":- modeb(2,br7(+instance,-element,-element)).\n",
    ":- modeb(2,br8(+instance,-element,-element)).\n",
    ":- modeb(2,br9(+instance,-element,-element)).\n",
    ":- modeb(2,br10(+instance,-element,-element)).\n",
    ":- modeb(2,br11(+instance,-element,-element)).\n",
    ":- modeb(2,br12(+instance,-element,-element)).\n",
    ":- modeb(2,br13(+instance,-element,-element)).\n",
    ":- modeb(2,br14(+instance,-element,-element)).\n",
    ":- modeb(2,br15(+instance,-element,-element)).\n",
    ":- modeb(2,br16(+instance,-element,-element)).\n",
    ":- modeb(2,br17(+instance,-element,-element)).\n",
    ":- modeb(2,br18(+instance,-element,-element)).\n",
    ":- modeb(2,br19(+instance,-element,-element)).\n",
    ":- modeb(2,br20(+instance,-element,-element)).\n",
    ":- modeb(2,br21(+instance,-element,-element)).\n",
    ":- modeb(2,br22(+instance,-element,-element)).\n",
    ":- modeb(2,br23(+instance,-element,-element)).\n",
    ":- modeb(2,br24(+instance,-element,-element)).\n",
    ":- modeb(2,br25(+instance,-element,-element)).\n",
    ":- modeb(2,br26(+instance,-element,-element)).\n",
    ":- modeb(2,br27(+instance,-element,-element)).\n",
    ":- modeb(2,br28(+instance,-element,-element)).\n",
    ":- modeb(2,br29(+instance,-element,-element)).\n",
    ":- modeb(2,br30(+instance,-element,-element))."
   ]
  }
 ],
 "metadata": {
  "kernelspec": {
   "display_name": "Python 3",
   "language": "python",
   "name": "python3"
  },
  "language_info": {
   "codemirror_mode": {
    "name": "ipython",
    "version": 3
   },
   "file_extension": ".py",
   "mimetype": "text/x-python",
   "name": "python",
   "nbconvert_exporter": "python",
   "pygments_lexer": "ipython3",
   "version": "3.6.9"
  }
 },
 "nbformat": 4,
 "nbformat_minor": 2
}
