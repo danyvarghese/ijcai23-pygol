{
 "cells": [
  {
   "cell_type": "code",
   "execution_count": 43,
   "metadata": {},
   "outputs": [
    {
     "name": "stdout",
     "output_type": "stream",
     "text": [
      "Classifier accuracy: 62.8% +/-3.0%\n",
      "Time of Execution 218.825 Sec\n"
     ]
    }
   ],
   "source": [
    "with open('output_1.txt', 'r') as fp:\n",
    "    lines = fp.read().splitlines()\n",
    "    for row in lines:\n",
    "        word = 'Average test theory statistics'\n",
    "        if row.find(word) != -1:\n",
    "            line_no = lines.index(row)\n",
    "            break\n",
    "text_1 = lines[299:]\n",
    "for i in text_1:\n",
    "    if 'Classifier accuracy' in i:\n",
    "        print(i)\n",
    "    if 'Total cputime' in i:\n",
    "        text_2 = i.split(': ')[-1]\n",
    "        print('Time of Execution', int(text_2.replace(',', ''))/1000,'Sec')"
   ]
  },
  {
   "cell_type": "code",
   "execution_count": 39,
   "metadata": {},
   "outputs": [
    {
     "name": "stdout",
     "output_type": "stream",
     "text": [
      "Classifier accuracy: 62.8% +/-3.0%\n",
      "218.825 Seconds\n"
     ]
    }
   ],
   "source": [
    "text_1 = lines[299:]\n",
    "for i in text_1:\n",
    "    if 'Classifier accuracy' in i:\n",
    "        print(i)\n",
    "    if 'Total cputime' in i:\n",
    "        text_2 = i.split(': ')[-1]\n",
    "        print(int(text_2.replace(',', ''))/1000, 'Seconds')"
   ]
  },
  {
   "cell_type": "code",
   "execution_count": null,
   "metadata": {},
   "outputs": [],
   "source": [
    "\"\"\"def metric_progolem():\n",
    "    dict_1 ={}\n",
    "    with open('output.txt', 'r') as fp:\n",
    "        lines = fp.read().splitlines()\n",
    "        for row in lines:\n",
    "            word = 'Average test theory statistics'\n",
    "            if row.find(word) != -1:\n",
    "                line_no = lines.index(row)\n",
    "                break\n",
    "    text_1 = lines[299:]\n",
    "    for i in text_1:\n",
    "        if 'Classifier accuracy' in i:\n",
    "            text_3 = i.split(': ')[-1]\n",
    "            accuracy = text_3.split('%')[0]\n",
    "            error = text_3.split('%')[1].split('-')[-1]\n",
    "            #print(float(accuracy), float(error))\n",
    "        if 'Total cputime' in i:\n",
    "            text_2 = i.split(': ')[-1]\n",
    "            #print('Time of Execution', int(text_2.replace(',', ''))/1000,'Sec')\n",
    "    dict_1['accuracy'] = float(accuracy)\n",
    "    dict_1['error'] = float(error)\n",
    "    dict_1['time'] = int(text_2.replace(',', ''))/1000\n",
    "    return dict_1\"\"\""
   ]
  },
  {
   "cell_type": "code",
   "execution_count": null,
   "metadata": {},
   "outputs": [],
   "source": []
  }
 ],
 "metadata": {
  "kernelspec": {
   "display_name": "Python 3",
   "language": "python",
   "name": "python3"
  },
  "language_info": {
   "codemirror_mode": {
    "name": "ipython",
    "version": 3
   },
   "file_extension": ".py",
   "mimetype": "text/x-python",
   "name": "python",
   "nbconvert_exporter": "python",
   "pygments_lexer": "ipython3",
   "version": "3.6.9"
  }
 },
 "nbformat": 4,
 "nbformat_minor": 2
}
